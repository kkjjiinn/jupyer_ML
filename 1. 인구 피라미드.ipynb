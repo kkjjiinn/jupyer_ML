{
 "cells": [
  {
   "cell_type": "markdown",
   "metadata": {},
   "source": [
    "# 1. 인구 피라미드\n"
   ]
  },
  {
   "cell_type": "markdown",
   "metadata": {},
   "source": [
    "# 남자 데이터 정리"
   ]
  },
  {
   "cell_type": "code",
   "execution_count": 119,
   "metadata": {},
   "outputs": [
    {
     "data": {
      "text/html": [
       "<div>\n",
       "<style scoped>\n",
       "    .dataframe tbody tr th:only-of-type {\n",
       "        vertical-align: middle;\n",
       "    }\n",
       "\n",
       "    .dataframe tbody tr th {\n",
       "        vertical-align: top;\n",
       "    }\n",
       "\n",
       "    .dataframe thead th {\n",
       "        text-align: right;\n",
       "    }\n",
       "</style>\n",
       "<table border=\"1\" class=\"dataframe\">\n",
       "  <thead>\n",
       "    <tr style=\"text-align: right;\">\n",
       "      <th></th>\n",
       "      <th>0~9세.1</th>\n",
       "      <th>10~19세.1</th>\n",
       "      <th>20~29세.1</th>\n",
       "      <th>30~39세.1</th>\n",
       "      <th>40~49세.1</th>\n",
       "      <th>50~59세.1</th>\n",
       "      <th>60~69세.1</th>\n",
       "      <th>70~79세.1</th>\n",
       "      <th>80~89세.1</th>\n",
       "      <th>90~99세.1</th>\n",
       "      <th>100세 이상.1</th>\n",
       "    </tr>\n",
       "    <tr>\n",
       "      <th>행정기관</th>\n",
       "      <th></th>\n",
       "      <th></th>\n",
       "      <th></th>\n",
       "      <th></th>\n",
       "      <th></th>\n",
       "      <th></th>\n",
       "      <th></th>\n",
       "      <th></th>\n",
       "      <th></th>\n",
       "      <th></th>\n",
       "      <th></th>\n",
       "    </tr>\n",
       "  </thead>\n",
       "  <tbody>\n",
       "    <tr>\n",
       "      <th>전국</th>\n",
       "      <td>2,248,434</td>\n",
       "      <td>2,992,238</td>\n",
       "      <td>3,145,706</td>\n",
       "      <td>3,953,487</td>\n",
       "      <td>4,344,034</td>\n",
       "      <td>3,964,539</td>\n",
       "      <td>2,288,363</td>\n",
       "      <td>1,761,669</td>\n",
       "      <td>697,658</td>\n",
       "      <td>112,258</td>\n",
       "      <td>10,305</td>\n",
       "    </tr>\n",
       "    <tr>\n",
       "      <th>서울특별시</th>\n",
       "      <td>396,219</td>\n",
       "      <td>532,001</td>\n",
       "      <td>738,155</td>\n",
       "      <td>880,743</td>\n",
       "      <td>864,848</td>\n",
       "      <td>820,732</td>\n",
       "      <td>486,794</td>\n",
       "      <td>294,880</td>\n",
       "      <td>109,234</td>\n",
       "      <td>19,822</td>\n",
       "      <td>3,078</td>\n",
       "    </tr>\n",
       "    <tr>\n",
       "      <th>부산광역시</th>\n",
       "      <td>128,381</td>\n",
       "      <td>184,727</td>\n",
       "      <td>219,031</td>\n",
       "      <td>256,029</td>\n",
       "      <td>292,089</td>\n",
       "      <td>325,976</td>\n",
       "      <td>196,210</td>\n",
       "      <td>126,735</td>\n",
       "      <td>45,890</td>\n",
       "      <td>6,373</td>\n",
       "      <td>993</td>\n",
       "    </tr>\n",
       "  </tbody>\n",
       "</table>\n",
       "</div>"
      ],
      "text/plain": [
       "            0~9세.1   10~19세.1   20~29세.1   30~39세.1   40~49세.1   50~59세.1  \\\n",
       "행정기관                                                                        \n",
       "전국       2,248,434  2,992,238  3,145,706  3,953,487  4,344,034  3,964,539   \n",
       "서울특별시      396,219    532,001    738,155    880,743    864,848    820,732   \n",
       "부산광역시      128,381    184,727    219,031    256,029    292,089    325,976   \n",
       "\n",
       "          60~69세.1   70~79세.1 80~89세.1 90~99세.1 100세 이상.1  \n",
       "행정기관                                                       \n",
       "전국       2,288,363  1,761,669  697,658  112,258    10,305  \n",
       "서울특별시      486,794    294,880  109,234   19,822     3,078  \n",
       "부산광역시      196,210    126,735   45,890    6,373       993  "
      ]
     },
     "execution_count": 119,
     "metadata": {},
     "output_type": "execute_result"
    }
   ],
   "source": [
    "import pandas as pd\n",
    "df_m = pd.read_excel('201308_201401_연령별인구현황_월간.xlsx', skiprows = 3, index_col='행정기관', usecols='B,R:AB' )\n",
    "df_m.head(3)\n",
    "\n",
    "#엑셀파일 불러올때 [Errno 2] No such file or directory: '202208_202301_연령별인구현황_월간' 뜸\n",
    "# 해결방법 : \n",
    "#1. 이름.xlsx를 해주면된다\n",
    "#2. 파일을 경로 지정 OR 프로젝트 파일에 옮겨 놓는다"
   ]
  },
  {
   "cell_type": "code",
   "execution_count": 120,
   "metadata": {},
   "outputs": [],
   "source": [
    "df_m.iloc[0] = df_m.iloc[0].str.replace(',','').astype(int) # 3,606,212 -> 3606212(정수형)\n"
   ]
  },
  {
   "cell_type": "code",
   "execution_count": 121,
   "metadata": {
    "scrolled": true
   },
   "outputs": [
    {
     "data": {
      "text/plain": [
       "0~9세.1       2248434\n",
       "10~19세.1     2992238\n",
       "20~29세.1     3145706\n",
       "30~39세.1     3953487\n",
       "40~49세.1     4344034\n",
       "50~59세.1     3964539\n",
       "60~69세.1     2288363\n",
       "70~79세.1     1761669\n",
       "80~89세.1      697658\n",
       "90~99세.1      112258\n",
       "100세 이상.1      10305\n",
       "Name: 전국  , dtype: object"
      ]
     },
     "execution_count": 121,
     "metadata": {},
     "output_type": "execute_result"
    }
   ],
   "source": [
    "df_m.iloc[0]"
   ]
  },
  {
   "cell_type": "markdown",
   "metadata": {},
   "source": [
    "# 여자 데이터 정리"
   ]
  },
  {
   "cell_type": "code",
   "execution_count": 122,
   "metadata": {},
   "outputs": [
    {
     "data": {
      "text/html": [
       "<div>\n",
       "<style scoped>\n",
       "    .dataframe tbody tr th:only-of-type {\n",
       "        vertical-align: middle;\n",
       "    }\n",
       "\n",
       "    .dataframe tbody tr th {\n",
       "        vertical-align: top;\n",
       "    }\n",
       "\n",
       "    .dataframe thead th {\n",
       "        text-align: right;\n",
       "    }\n",
       "</style>\n",
       "<table border=\"1\" class=\"dataframe\">\n",
       "  <thead>\n",
       "    <tr style=\"text-align: right;\">\n",
       "      <th></th>\n",
       "      <th>0~9세.2</th>\n",
       "      <th>10~19세.2</th>\n",
       "      <th>20~29세.2</th>\n",
       "      <th>30~39세.2</th>\n",
       "      <th>40~49세.2</th>\n",
       "      <th>50~59세.2</th>\n",
       "      <th>60~69세.2</th>\n",
       "      <th>70~79세.2</th>\n",
       "      <th>80~89세.2</th>\n",
       "      <th>90~99세.2</th>\n",
       "      <th>100세 이상.2</th>\n",
       "    </tr>\n",
       "    <tr>\n",
       "      <th>행정기관</th>\n",
       "      <th></th>\n",
       "      <th></th>\n",
       "      <th></th>\n",
       "      <th></th>\n",
       "      <th></th>\n",
       "      <th></th>\n",
       "      <th></th>\n",
       "      <th></th>\n",
       "      <th></th>\n",
       "      <th></th>\n",
       "      <th></th>\n",
       "    </tr>\n",
       "  </thead>\n",
       "  <tbody>\n",
       "    <tr>\n",
       "      <th>전국</th>\n",
       "      <td>2,390,241</td>\n",
       "      <td>3,295,950</td>\n",
       "      <td>3,454,482</td>\n",
       "      <td>4,112,865</td>\n",
       "      <td>4,512,052</td>\n",
       "      <td>4,026,283</td>\n",
       "      <td>2,139,657</td>\n",
       "      <td>1,292,183</td>\n",
       "      <td>309,222</td>\n",
       "      <td>34,141</td>\n",
       "      <td>3,122</td>\n",
       "    </tr>\n",
       "    <tr>\n",
       "      <th>서울특별시</th>\n",
       "      <td>418,439</td>\n",
       "      <td>576,769</td>\n",
       "      <td>735,209</td>\n",
       "      <td>896,146</td>\n",
       "      <td>867,088</td>\n",
       "      <td>774,280</td>\n",
       "      <td>447,263</td>\n",
       "      <td>245,606</td>\n",
       "      <td>51,692</td>\n",
       "      <td>7,149</td>\n",
       "      <td>1,076</td>\n",
       "    </tr>\n",
       "    <tr>\n",
       "      <th>부산광역시</th>\n",
       "      <td>136,077</td>\n",
       "      <td>208,128</td>\n",
       "      <td>242,667</td>\n",
       "      <td>265,943</td>\n",
       "      <td>286,340</td>\n",
       "      <td>308,171</td>\n",
       "      <td>183,387</td>\n",
       "      <td>97,107</td>\n",
       "      <td>19,321</td>\n",
       "      <td>1,786</td>\n",
       "      <td>268</td>\n",
       "    </tr>\n",
       "  </tbody>\n",
       "</table>\n",
       "</div>"
      ],
      "text/plain": [
       "            0~9세.2   10~19세.2   20~29세.2   30~39세.2   40~49세.2   50~59세.2  \\\n",
       "행정기관                                                                        \n",
       "전국       2,390,241  3,295,950  3,454,482  4,112,865  4,512,052  4,026,283   \n",
       "서울특별시      418,439    576,769    735,209    896,146    867,088    774,280   \n",
       "부산광역시      136,077    208,128    242,667    265,943    286,340    308,171   \n",
       "\n",
       "          60~69세.2   70~79세.2 80~89세.2 90~99세.2 100세 이상.2  \n",
       "행정기관                                                       \n",
       "전국       2,139,657  1,292,183  309,222   34,141     3,122  \n",
       "서울특별시      447,263    245,606   51,692    7,149     1,076  \n",
       "부산광역시      183,387     97,107   19,321    1,786       268  "
      ]
     },
     "execution_count": 122,
     "metadata": {},
     "output_type": "execute_result"
    }
   ],
   "source": [
    "df_w = pd.read_excel('201308_201401_연령별인구현황_월간.xlsx', skiprows = 3, index_col='행정기관', usecols='B,AE:AO' )\n",
    "df_w.head(3)"
   ]
  },
  {
   "cell_type": "code",
   "execution_count": 123,
   "metadata": {},
   "outputs": [
    {
     "data": {
      "text/plain": [
       "Index(['0~9세.1', '10~19세.1', '20~29세.1', '30~39세.1', '40~49세.1', '50~59세.1',\n",
       "       '60~69세.1', '70~79세.1', '80~89세.1', '90~99세.1', '100세 이상.1'],\n",
       "      dtype='object')"
      ]
     },
     "execution_count": 123,
     "metadata": {},
     "output_type": "execute_result"
    }
   ],
   "source": [
    "df_m.columns"
   ]
  },
  {
   "cell_type": "code",
   "execution_count": 124,
   "metadata": {},
   "outputs": [
    {
     "data": {
      "text/plain": [
       "Index(['0~9세.2', '10~19세.2', '20~29세.2', '30~39세.2', '40~49세.2', '50~59세.2',\n",
       "       '60~69세.2', '70~79세.2', '80~89세.2', '90~99세.2', '100세 이상.2'],\n",
       "      dtype='object')"
      ]
     },
     "execution_count": 124,
     "metadata": {},
     "output_type": "execute_result"
    }
   ],
   "source": [
    "df_w.columns\n"
   ]
  },
  {
   "cell_type": "code",
   "execution_count": null,
   "metadata": {},
   "outputs": [],
   "source": []
  },
  {
   "cell_type": "code",
   "execution_count": 125,
   "metadata": {},
   "outputs": [
    {
     "data": {
      "text/plain": [
       "Index(['0~9세.2', '10~19세.2', '20~29세.2', '30~39세.2', '40~49세.2', '50~59세.2',\n",
       "       '60~69세.2', '70~79세.2', '80~89세.2', '90~99세.2', '100세 이상.2'],\n",
       "      dtype='object')"
      ]
     },
     "execution_count": 125,
     "metadata": {},
     "output_type": "execute_result"
    }
   ],
   "source": [
    "df_m.columns = df_w.columns # 컬럼명 통일\n",
    "df_w.columns"
   ]
  },
  {
   "cell_type": "code",
   "execution_count": null,
   "metadata": {},
   "outputs": [],
   "source": []
  },
  {
   "cell_type": "code",
   "execution_count": 126,
   "metadata": {
    "scrolled": true
   },
   "outputs": [
    {
     "data": {
      "text/plain": [
       "0~9세.2       2390241\n",
       "10~19세.2     3295950\n",
       "20~29세.2     3454482\n",
       "30~39세.2     4112865\n",
       "40~49세.2     4512052\n",
       "50~59세.2     4026283\n",
       "60~69세.2     2139657\n",
       "70~79세.2     1292183\n",
       "80~89세.2      309222\n",
       "90~99세.2       34141\n",
       "100세 이상.2       3122\n",
       "Name: 전국  , dtype: object"
      ]
     },
     "execution_count": 126,
     "metadata": {},
     "output_type": "execute_result"
    }
   ],
   "source": [
    "df_w.iloc[0] = df_w.iloc[0].str.replace(',','').astype(int)\n",
    "df_w.iloc[0]"
   ]
  },
  {
   "cell_type": "markdown",
   "metadata": {},
   "source": [
    "# 데이터 시각화"
   ]
  },
  {
   "cell_type": "code",
   "execution_count": 113,
   "metadata": {},
   "outputs": [],
   "source": [
    "import matplotlib.pyplot as plt\n",
    "import matplotlib\n",
    "matplotlib.rcParams['font.family'] = 'Malgun Gothic'\n",
    "import matplotlib.font_manager as fm\n",
    "fm.fontManager.ttflist # 사용가능한 폰트 확인\n",
    "[f.name for f in fm.fontManager.ttflist] # 폰트 이름만 가져오기\n",
    "matplotlib.rcParams['axes.unicode_minus'] = False # 한글 폰트 사용 시, 마이너스 글자가 깨지지 않게"
   ]
  },
  {
   "cell_type": "code",
   "execution_count": 127,
   "metadata": {},
   "outputs": [
    {
     "data": {
      "image/png": "[encoded data removed]",
      "text/plain": [
       "<Figure size 720x504 with 1 Axes>"
      ]
     },
     "metadata": {
      "needs_background": "light"
     },
     "output_type": "display_data"
    }
   ],
   "source": [
    "plt.figure(figsize=(10, 7))\n",
    "plt.barh(df_m.columns, -df_m.iloc[0] // 1000) # 단위 : 천명\n",
    "plt.barh(df_w.columns, df_w.iloc[0] // 1000)\n",
    "plt.title('2013 대한민국 인구 피라미드')\n",
    "plt.savefig('2013_인구피라미드.png')\n",
    "plt.show()"
   ]
  },
  {
   "cell_type": "code",
   "execution_count": 101,
   "metadata": {},
   "outputs": [
    {
     "data": {
      "text/html": [
       "<div>\n",
       "<style scoped>\n",
       "    .dataframe tbody tr th:only-of-type {\n",
       "        vertical-align: middle;\n",
       "    }\n",
       "\n",
       "    .dataframe tbody tr th {\n",
       "        vertical-align: top;\n",
       "    }\n",
       "\n",
       "    .dataframe thead th {\n",
       "        text-align: right;\n",
       "    }\n",
       "</style>\n",
       "<table border=\"1\" class=\"dataframe\">\n",
       "  <thead>\n",
       "    <tr style=\"text-align: right;\">\n",
       "      <th></th>\n",
       "      <th>0~9세.1</th>\n",
       "      <th>10~19세.1</th>\n",
       "      <th>20~29세.1</th>\n",
       "      <th>30~39세.1</th>\n",
       "      <th>40~49세.1</th>\n",
       "      <th>50~59세.1</th>\n",
       "      <th>60~69세.1</th>\n",
       "      <th>70~79세.1</th>\n",
       "      <th>80~89세.1</th>\n",
       "      <th>90~99세.1</th>\n",
       "      <th>100세 이상.1</th>\n",
       "    </tr>\n",
       "    <tr>\n",
       "      <th>행정기관</th>\n",
       "      <th></th>\n",
       "      <th></th>\n",
       "      <th></th>\n",
       "      <th></th>\n",
       "      <th></th>\n",
       "      <th></th>\n",
       "      <th></th>\n",
       "      <th></th>\n",
       "      <th></th>\n",
       "      <th></th>\n",
       "      <th></th>\n",
       "    </tr>\n",
       "  </thead>\n",
       "  <tbody>\n",
       "    <tr>\n",
       "      <th>전국</th>\n",
       "      <td>2,248,434</td>\n",
       "      <td>2,992,238</td>\n",
       "      <td>3,145,706</td>\n",
       "      <td>3,953,487</td>\n",
       "      <td>4,344,034</td>\n",
       "      <td>3,964,539</td>\n",
       "      <td>2,288,363</td>\n",
       "      <td>1,761,669</td>\n",
       "      <td>697,658</td>\n",
       "      <td>112,258</td>\n",
       "      <td>10,305</td>\n",
       "    </tr>\n",
       "    <tr>\n",
       "      <th>서울특별시</th>\n",
       "      <td>396,219</td>\n",
       "      <td>532,001</td>\n",
       "      <td>738,155</td>\n",
       "      <td>880,743</td>\n",
       "      <td>864,848</td>\n",
       "      <td>820,732</td>\n",
       "      <td>486,794</td>\n",
       "      <td>294,880</td>\n",
       "      <td>109,234</td>\n",
       "      <td>19,822</td>\n",
       "      <td>3,078</td>\n",
       "    </tr>\n",
       "    <tr>\n",
       "      <th>부산광역시</th>\n",
       "      <td>128,381</td>\n",
       "      <td>184,727</td>\n",
       "      <td>219,031</td>\n",
       "      <td>256,029</td>\n",
       "      <td>292,089</td>\n",
       "      <td>325,976</td>\n",
       "      <td>196,210</td>\n",
       "      <td>126,735</td>\n",
       "      <td>45,890</td>\n",
       "      <td>6,373</td>\n",
       "      <td>993</td>\n",
       "    </tr>\n",
       "  </tbody>\n",
       "</table>\n",
       "</div>"
      ],
      "text/plain": [
       "            0~9세.1   10~19세.1   20~29세.1   30~39세.1   40~49세.1   50~59세.1  \\\n",
       "행정기관                                                                        \n",
       "전국       2,248,434  2,992,238  3,145,706  3,953,487  4,344,034  3,964,539   \n",
       "서울특별시      396,219    532,001    738,155    880,743    864,848    820,732   \n",
       "부산광역시      128,381    184,727    219,031    256,029    292,089    325,976   \n",
       "\n",
       "          60~69세.1   70~79세.1 80~89세.1 90~99세.1 100세 이상.1  \n",
       "행정기관                                                       \n",
       "전국       2,288,363  1,761,669  697,658  112,258    10,305  \n",
       "서울특별시      486,794    294,880  109,234   19,822     3,078  \n",
       "부산광역시      196,210    126,735   45,890    6,373       993  "
      ]
     },
     "execution_count": 101,
     "metadata": {},
     "output_type": "execute_result"
    }
   ],
   "source": []
  },
  {
   "cell_type": "code",
   "execution_count": null,
   "metadata": {},
   "outputs": [],
   "source": []
  },
  {
   "cell_type": "code",
   "execution_count": null,
   "metadata": {},
   "outputs": [],
   "source": []
  },
  {
   "cell_type": "code",
   "execution_count": null,
   "metadata": {},
   "outputs": [],
   "source": []
  },
  {
   "cell_type": "code",
   "execution_count": null,
   "metadata": {},
   "outputs": [],
   "source": []
  },
  {
   "cell_type": "code",
   "execution_count": null,
   "metadata": {},
   "outputs": [],
   "source": []
  }
 ],
 "metadata": {
  "kernelspec": {
   "display_name": "Python 3",
   "language": "python",
   "name": "python3"
  },
  "language_info": {
   "codemirror_mode": {
    "name": "ipython",
    "version": 3
   },
   "file_extension": ".py",
   "mimetype": "text/x-python",
   "name": "python",
   "nbconvert_exporter": "python",
   "pygments_lexer": "ipython3",
   "version": "3.8.5"
  }
 },
 "nbformat": 4,
 "nbformat_minor": 4
}
